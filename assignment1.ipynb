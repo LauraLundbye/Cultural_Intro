{
 "cells": [
  {
   "cell_type": "markdown",
   "id": "f5f4e997-8b98-43cb-a83a-3b21eb59734c",
   "metadata": {},
   "source": [
    "notebook!"
   ]
  }
 ],
 "metadata": {
  "kernelspec": {
   "display_name": "Python 3 ",
   "language": "python",
   "name": "python3"
  },
  "language_info": {
   "codemirror_mode": {
    "name": "ipython",
    "version": 3
   },
   "file_extension": ".py",
   "mimetype": "text/x-python",
   "name": "python",
   "nbconvert_exporter": "python",
   "pygments_lexer": "ipython3",
   "version": "3.10.14"
  }
 },
 "nbformat": 4,
 "nbformat_minor": 5
}
